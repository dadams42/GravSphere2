{
 "cells": [
  {
   "cell_type": "code",
   "execution_count": null,
   "id": "3b021ede-ce20-41bf-bbf3-cef8be5b34ef",
   "metadata": {},
   "outputs": [],
   "source": [
    "#code for running GravSphere2 from laptop (for parallelized version for multi-cpu machines see run_multcpu_example.py file)\n",
    "\n",
    "#The gravsphere2 file defines the likelihood for sampling and opens the initialization file with the specific object\n",
    "#with all the data, this is an example script of running the sampling routine + doing some plots\n",
    "\n",
    "#Our default example is for the Fornax LOS + PM simulation mock with 100 tracers\n",
    "\n",
    "from gravsphere2 import *\n",
    "\n",
    "import matplotlib.pyplot as plt\n",
    "    \n",
    "import dynesty\n",
    "from dynesty import plotting as dyplot\n",
    "from dynesty import DynamicNestedSampler\n",
    "\n",
    "%matplotlib inline"
   ]
  },
  {
   "cell_type": "code",
   "execution_count": null,
   "id": "bd2b54e9-e201-400a-8159-1579b33338f8",
   "metadata": {},
   "outputs": [],
   "source": [
    "\n",
    "# Try to use an nlive parameter of the order of the dimensions squared (a few times ideally) and at least 50 points per mode\n",
    "#the higher the nlive parameter the finer and more reliable the sampling (less likely you'll miss a narrow mode) but\n",
    "#the higher the sampling / CPU time it will take\n",
    "#Note: this will probably take about ~ 1 - 2 days in a normal laptop, if you want to run quickly use lower nlive, fix the photometry or (preferably)\n",
    "#use a high-performance computing machine with more CPUs (see multi-CPU machine example)\n",
    "#PMs + more tracers will make runs take longer\n",
    "\n",
    "sampler = DynamicNestedSampler(lnprob, ptform, ndims, nlive = 500) #this creates new sampler\n",
    "\n",
    "\n",
    "fsname = str(diro + 'Sampler Chains/fornax_pm100_example_chk')  #file for checkpointing \n",
    "\n",
    "#sampler = DynamicNestedSampler.restore(fsname) #this restores existing sampler to run it from where you left off\n",
    "\n",
    "print('Running dynesty:')\n",
    "\n",
    "#runs the sampler (this will run the sampler until maxiter number of steps have been reached, if use_stop = True the run \n",
    "#will stop when the sampler has converged\n",
    "sampler.run_nested(checkpoint_file=fsname, use_stop = True,\n",
    "                maxiter = 300000, print_progress=True)   \n",
    "\n",
    "#sampler.run_nested(checkpoint_file=fsname, use_stop = True,\n",
    "        #         maxiter = 300000, print_progress=True, resume = True) #if running from existing file with the .restore option"
   ]
  },
  {
   "cell_type": "code",
   "execution_count": null,
   "id": "08e9af24-b450-4089-8927-69c88d8df2c9",
   "metadata": {},
   "outputs": [],
   "source": [
    "#diagnostic plot of the run, if the sampler has converged, the number of live points and weights should go to zero\n",
    "\n",
    "resu = sampler.results\n",
    "\n",
    "print(\"number of sampling iterations = \", resu.niter)\n",
    "\n",
    "from dynesty import plotting as dyplot\n",
    "\n",
    "%matplotlib inline\n",
    "\n",
    "# Plot a summary of the run.\n",
    "rfig, raxes = dyplot.runplot(resu)\n",
    "\n",
    "# Plot traces and 1-D marginalized posteriors.\n",
    "tfig, taxes = dyplot.traceplot(resu)\n",
    "\n",
    "# Plot the 2-D marginalized posteriors.\n",
    "cfig, caxes = dyplot.cornerplot(resu\n",
    "                              )\n",
    "plt.show()"
   ]
  },
  {
   "cell_type": "code",
   "execution_count": null,
   "id": "088d4af9-8dea-4da2-abc5-74468949b136",
   "metadata": {},
   "outputs": [],
   "source": []
  }
 ],
 "metadata": {
  "kernelspec": {
   "display_name": "Python 3 (ipykernel)",
   "language": "python",
   "name": "python3"
  },
  "language_info": {
   "codemirror_mode": {
    "name": "ipython",
    "version": 3
   },
   "file_extension": ".py",
   "mimetype": "text/x-python",
   "name": "python",
   "nbconvert_exporter": "python",
   "pygments_lexer": "ipython3",
   "version": "3.12.4"
  }
 },
 "nbformat": 4,
 "nbformat_minor": 5
}
